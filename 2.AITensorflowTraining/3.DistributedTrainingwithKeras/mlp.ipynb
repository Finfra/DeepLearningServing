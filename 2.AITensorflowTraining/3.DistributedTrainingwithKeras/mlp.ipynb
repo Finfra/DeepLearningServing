{
 "cells": [
  {
   "cell_type": "markdown",
   "metadata": {
    "id": "hq9XMl8_c_45"
   },
   "source": [
    "# 1. 아주 간단한 버전의 MLP"
   ]
  },
  {
   "cell_type": "markdown",
   "metadata": {
    "id": "7pOW2QZ5VSSA"
   },
   "source": [
    "## library\n",
    "최소한으로 필요한 라이브러리들 선언"
   ]
  },
  {
   "cell_type": "code",
   "execution_count": null,
   "metadata": {
    "id": "SRsCpDfyc_46"
   },
   "outputs": [],
   "source": [
    "import numpy as np\n",
    "from tensorflow import keras\n",
    "from tensorflow.keras.models import Sequential\n",
    "from tensorflow.keras.layers import Dense"
   ]
  },
  {
   "cell_type": "markdown",
   "metadata": {
    "id": "JPwt4JcMVbU_"
   },
   "source": [
    "## 데이터 셋 불러오기\n",
    "iris 데이터셋을 활용할 예정"
   ]
  },
  {
   "cell_type": "code",
   "execution_count": null,
   "metadata": {
    "id": "OBhMVXj6nZJl"
   },
   "outputs": [],
   "source": [
    "from sklearn import datasets\n",
    "iris = datasets.load_iris()\n",
    "x=iris.data\n",
    "y = keras.utils.to_categorical(iris.target, 3)\n"
   ]
  },
  {
   "cell_type": "markdown",
   "metadata": {
    "id": "QL_5AukGVmSX"
   },
   "source": [
    "## 모델 구성\n",
    "간단하게 모델 구성하기"
   ]
  },
  {
   "cell_type": "code",
   "execution_count": null,
   "metadata": {
    "colab": {
     "base_uri": "https://localhost:8080/"
    },
    "executionInfo": {
     "elapsed": 557,
     "status": "ok",
     "timestamp": 1628218488383,
     "user": {
      "displayName": "김성국",
      "photoUrl": "",
      "userId": "14454204284131910272"
     },
     "user_tz": -540
    },
    "id": "YB_yTi48c_48",
    "outputId": "f1b49b7f-e3a9-495c-c809-67073429de95"
   },
   "outputs": [
    {
     "name": "stdout",
     "output_type": "stream",
     "text": [
      "Model: \"sequential\"\n",
      "_________________________________________________________________\n",
      "Layer (type)                 Output Shape              Param #   \n",
      "=================================================================\n",
      "dense (Dense)                (None, 4)                 20        \n",
      "_________________________________________________________________\n",
      "dense_1 (Dense)              (None, 3)                 15        \n",
      "=================================================================\n",
      "Total params: 35\n",
      "Trainable params: 35\n",
      "Non-trainable params: 0\n",
      "_________________________________________________________________\n"
     ]
    }
   ],
   "source": [
    "model = Sequential()\n",
    "model.add(Dense(4, activation='relu', input_shape=(4,)))\n",
    "model.add(Dense(3, activation='softmax'))\n",
    "model.summary()\n"
   ]
  },
  {
   "cell_type": "markdown",
   "metadata": {
    "id": "e3b6Z9CZV7Cv"
   },
   "source": [
    "사용할 fuction 들을 지정"
   ]
  },
  {
   "cell_type": "code",
   "execution_count": null,
   "metadata": {
    "id": "yWKDrr_9HmSd"
   },
   "outputs": [],
   "source": [
    "model.compile(loss='categorical_crossentropy',\n",
    "              optimizer='adam',\n",
    "              metrics=['accuracy'])\n"
   ]
  },
  {
   "cell_type": "markdown",
   "metadata": {
    "id": "AWxcYQp-WF8u"
   },
   "source": [
    "## 모델 학습 및 테스트 결과 보기\n",
    "fit을 통해 학습을 하고 score 확인"
   ]
  },
  {
   "cell_type": "code",
   "execution_count": null,
   "metadata": {
    "colab": {
     "base_uri": "https://localhost:8080/"
    },
    "executionInfo": {
     "elapsed": 3550,
     "status": "ok",
     "timestamp": 1628218491930,
     "user": {
      "displayName": "김성국",
      "photoUrl": "",
      "userId": "14454204284131910272"
     },
     "user_tz": -540
    },
    "id": "LGKpoNvVc_48",
    "outputId": "69fc1083-f702-4700-ab32-c76ec28be123"
   },
   "outputs": [
    {
     "name": "stdout",
     "output_type": "stream",
     "text": [
      "Test loss: 0.6575832962989807\n",
      "Test accuracy: 0.6933333277702332\n"
     ]
    }
   ],
   "source": [
    "model.fit(x, y,\n",
    "          batch_size=10,\n",
    "          epochs=100,\n",
    "          verbose=0\n",
    ")\n",
    "\n",
    "score = model.evaluate(x, y, verbose=0)\n",
    "print('Test loss:', score[0])\n",
    "print('Test accuracy:', score[1])\n"
   ]
  },
  {
   "cell_type": "markdown",
   "metadata": {
    "id": "tySo9X6gWmPO"
   },
   "source": [
    "## 적용 예\n",
    "실제로 다른 꽃을 측정하여 모델에 집어 넣어 이 꽃이 어떤 것인지 알고자 할 경우"
   ]
  },
  {
   "cell_type": "code",
   "execution_count": null,
   "metadata": {
    "colab": {
     "base_uri": "https://localhost:8080/"
    },
    "executionInfo": {
     "elapsed": 34,
     "status": "ok",
     "timestamp": 1628218491931,
     "user": {
      "displayName": "김성국",
      "photoUrl": "",
      "userId": "14454204284131910272"
     },
     "user_tz": -540
    },
    "id": "zZn8tFVzrDJX",
    "outputId": "9aa93dab-34b6-451e-8167-023d68770e85"
   },
   "outputs": [
    {
     "data": {
      "text/plain": [
       "(array([[5.1, 3.5, 1.4, 0.2]]),\n",
       " array([[1., 0., 0.]], dtype=float32),\n",
       " array([[5. , 2. , 3.5, 1. ]]),\n",
       " array([[0., 1., 0.]], dtype=float32))"
      ]
     },
     "execution_count": 6,
     "metadata": {
      "tags": []
     },
     "output_type": "execute_result"
    }
   ],
   "source": [
    "x[:1,:],y[:1,:],x[60:61,:],y[60:61,:]"
   ]
  },
  {
   "cell_type": "code",
   "execution_count": null,
   "metadata": {
    "colab": {
     "base_uri": "https://localhost:8080/"
    },
    "executionInfo": {
     "elapsed": 29,
     "status": "ok",
     "timestamp": 1628218491933,
     "user": {
      "displayName": "김성국",
      "photoUrl": "",
      "userId": "14454204284131910272"
     },
     "user_tz": -540
    },
    "id": "YevdLG68XyLg",
    "outputId": "cfa2c892-c95f-41a0-c62c-7a53dac93004"
   },
   "outputs": [
    {
     "data": {
      "text/plain": [
       "array([0, 2])"
      ]
     },
     "execution_count": 7,
     "metadata": {
      "tags": []
     },
     "output_type": "execute_result"
    }
   ],
   "source": [
    "x_test=np.array( [ [5.1, 3.5, 1.4, 0.2],[5. , 2. , 3.5, 1. ]])\n",
    "r=model.predict(x_test)\n",
    "np.argmax(r, axis=-1)"
   ]
  },
  {
   "cell_type": "markdown",
   "metadata": {
    "id": "0puI1noSspLf"
   },
   "source": []
  }
 ],
 "metadata": {
  "accelerator": "GPU",
  "colab": {
   "collapsed_sections": [],
   "name": "1.MLP_verySimple.ipynb",
   "provenance": []
  },
  "kernelspec": {
   "display_name": "Python 3 (ipykernel)",
   "language": "python",
   "name": "python3"
  },
  "language_info": {
   "codemirror_mode": {
    "name": "ipython",
    "version": 3
   },
   "file_extension": ".py",
   "mimetype": "text/x-python",
   "name": "python",
   "nbconvert_exporter": "python",
   "pygments_lexer": "ipython3",
   "version": "3.7.12"
  }
 },
 "nbformat": 4,
 "nbformat_minor": 4
}
