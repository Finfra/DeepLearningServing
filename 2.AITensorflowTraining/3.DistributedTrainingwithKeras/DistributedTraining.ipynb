{
 "cells": [
  {
   "cell_type": "code",
   "execution_count": 34,
   "id": "a2280ca5-43ef-4a70-8bdb-85ca35398344",
   "metadata": {},
   "outputs": [],
   "source": [
    "# https://www.tensorflow.org/tutorials/distribute/keras"
   ]
  },
  {
   "cell_type": "code",
   "execution_count": 1,
   "id": "ba510ddd-0359-4da9-80cb-8f1f9fff1f5f",
   "metadata": {},
   "outputs": [],
   "source": [
    "import tensorflow_datasets as tfds\n",
    "import tensorflow as tf\n",
    "tfds.disable_progress_bar()\n",
    "\n",
    "import os"
   ]
  },
  {
   "cell_type": "code",
   "execution_count": 2,
   "id": "7a2e2e23-bdcc-45d8-8a44-c70b06c9bca6",
   "metadata": {},
   "outputs": [
    {
     "name": "stdout",
     "output_type": "stream",
     "text": [
      "0\n",
      "0\n"
     ]
    }
   ],
   "source": [
    "%%bash\n",
    "echo 0 | sudo tee -a /sys/bus/pci/devices/0000\\:01\\:00.0/numa_node\n",
    "cat /sys/bus/pci/devices/0000\\:01\\:00.0/numa_node"
   ]
  },
  {
   "cell_type": "code",
   "execution_count": 4,
   "id": "adde8259-c0fb-4c7b-8c64-8dfc2c539fba",
   "metadata": {},
   "outputs": [],
   "source": [
    "gpus = tf.config.experimental.list_physical_devices('GPU')\n",
    "for gpu in gpus:\n",
    "    tf.config.experimental.set_memory_growth(gpu, True)"
   ]
  },
  {
   "cell_type": "code",
   "execution_count": 6,
   "id": "e4a93a0c-d241-43b2-81af-d6dcd05f4a19",
   "metadata": {},
   "outputs": [],
   "source": [
    "datasets, info = tfds.load(name='mnist', with_info=True, as_supervised=True)\n",
    "\n",
    "mnist_train, mnist_test = datasets['train'], datasets['test']"
   ]
  },
  {
   "cell_type": "code",
   "execution_count": 7,
   "id": "058b5625-b5d4-4584-903b-12cb96c6dbab",
   "metadata": {},
   "outputs": [
    {
     "name": "stdout",
     "output_type": "stream",
     "text": [
      "Thu Dec 30 16:20:59 2021       \n",
      "+-----------------------------------------------------------------------------+\n",
      "| NVIDIA-SMI 495.44       Driver Version: 495.44       CUDA Version: 11.5     |\n",
      "|-------------------------------+----------------------+----------------------+\n",
      "| GPU  Name        Persistence-M| Bus-Id        Disp.A | Volatile Uncorr. ECC |\n",
      "| Fan  Temp  Perf  Pwr:Usage/Cap|         Memory-Usage | GPU-Util  Compute M. |\n",
      "|                               |                      |               MIG M. |\n",
      "|===============================+======================+======================|\n",
      "|   0  NVIDIA GeForce ...  Off  | 00000000:01:00.0 Off |                  N/A |\n",
      "|  0%   49C    P2    28W / 120W |    913MiB /  6075MiB |      0%      Default |\n",
      "|                               |                      |                  N/A |\n",
      "+-------------------------------+----------------------+----------------------+\n",
      "|   1  NVIDIA GeForce ...  Off  | 00000000:02:00.0 Off |                  N/A |\n",
      "|  0%   45C    P2    25W / 120W |    386MiB /  6078MiB |      0%      Default |\n",
      "|                               |                      |                  N/A |\n",
      "+-------------------------------+----------------------+----------------------+\n",
      "                                                                               \n",
      "+-----------------------------------------------------------------------------+\n",
      "| Processes:                                                                  |\n",
      "|  GPU   GI   CI        PID   Type   Process name                  GPU Memory |\n",
      "|        ID   ID                                                   Usage      |\n",
      "|=============================================================================|\n",
      "|    0   N/A  N/A      1239      G   /usr/lib/xorg/Xorg                 27MiB |\n",
      "|    0   N/A  N/A      2600      G   /usr/bin/gnome-shell               52MiB |\n",
      "|    0   N/A  N/A      8878      C   ...alenvs/python3/bin/python      637MiB |\n",
      "|    0   N/A  N/A      9969      C   ...alenvs/python3/bin/python      191MiB |\n",
      "|    1   N/A  N/A      1239      G   /usr/lib/xorg/Xorg                  4MiB |\n",
      "|    1   N/A  N/A      8878      C   ...alenvs/python3/bin/python      189MiB |\n",
      "|    1   N/A  N/A      9969      C   ...alenvs/python3/bin/python      189MiB |\n",
      "+-----------------------------------------------------------------------------+\n"
     ]
    }
   ],
   "source": [
    "!nvidia-smi\n"
   ]
  },
  {
   "cell_type": "code",
   "execution_count": 8,
   "id": "cef4f9a5-db4b-4c4b-a931-585afd0acb9b",
   "metadata": {},
   "outputs": [
    {
     "name": "stdout",
     "output_type": "stream",
     "text": [
      "INFO:tensorflow:Using MirroredStrategy with devices ('/job:localhost/replica:0/task:0/device:GPU:0', '/job:localhost/replica:0/task:0/device:GPU:1')\n"
     ]
    },
    {
     "name": "stderr",
     "output_type": "stream",
     "text": [
      "INFO:tensorflow:Using MirroredStrategy with devices ('/job:localhost/replica:0/task:0/device:GPU:0', '/job:localhost/replica:0/task:0/device:GPU:1')\n"
     ]
    }
   ],
   "source": [
    "strategy = tf.distribute.MirroredStrategy()\n"
   ]
  },
  {
   "cell_type": "code",
   "execution_count": 9,
   "id": "fab9850b-54f1-4601-9f10-bb210af304bd",
   "metadata": {},
   "outputs": [
    {
     "name": "stdout",
     "output_type": "stream",
     "text": [
      "장치의 수: 2\n"
     ]
    }
   ],
   "source": [
    "print('장치의 수: {}'.format(strategy.num_replicas_in_sync))\n"
   ]
  },
  {
   "cell_type": "code",
   "execution_count": 10,
   "id": "99d4d8dd-3d65-462b-890d-5031895494a3",
   "metadata": {},
   "outputs": [],
   "source": [
    "# 데이터셋 내 샘플의 수는 info.splits.total_num_examples 로도\n",
    "# 얻을 수 있습니다.\n",
    "\n",
    "num_train_examples = info.splits['train'].num_examples\n",
    "num_test_examples = info.splits['test'].num_examples\n",
    "\n",
    "BUFFER_SIZE = 10000\n",
    "\n",
    "BATCH_SIZE_PER_REPLICA = 64\n",
    "BATCH_SIZE = BATCH_SIZE_PER_REPLICA * strategy.num_replicas_in_sync"
   ]
  },
  {
   "cell_type": "code",
   "execution_count": 11,
   "id": "09a6a4ba-6d53-4b2d-a9a6-779cf9232af4",
   "metadata": {},
   "outputs": [],
   "source": [
    "def scale(image, label):\n",
    "  image = tf.cast(image, tf.float32)\n",
    "  image /= 255\n",
    "\n",
    "  return image, label\n"
   ]
  },
  {
   "cell_type": "code",
   "execution_count": 12,
   "id": "7808b671-3ca2-4458-b43d-e71c1ca8b9ff",
   "metadata": {},
   "outputs": [],
   "source": [
    "train_dataset = mnist_train.map(scale).shuffle(BUFFER_SIZE).batch(BATCH_SIZE)\n",
    "eval_dataset = mnist_test.map(scale).batch(BATCH_SIZE)"
   ]
  },
  {
   "cell_type": "code",
   "execution_count": 13,
   "id": "a390f625-d83d-433e-9f13-15b6568c6bd7",
   "metadata": {},
   "outputs": [
    {
     "name": "stdout",
     "output_type": "stream",
     "text": [
      "INFO:tensorflow:Reduce to /job:localhost/replica:0/task:0/device:CPU:0 then broadcast to ('/job:localhost/replica:0/task:0/device:CPU:0',).\n"
     ]
    },
    {
     "name": "stderr",
     "output_type": "stream",
     "text": [
      "INFO:tensorflow:Reduce to /job:localhost/replica:0/task:0/device:CPU:0 then broadcast to ('/job:localhost/replica:0/task:0/device:CPU:0',).\n"
     ]
    },
    {
     "name": "stdout",
     "output_type": "stream",
     "text": [
      "INFO:tensorflow:Reduce to /job:localhost/replica:0/task:0/device:CPU:0 then broadcast to ('/job:localhost/replica:0/task:0/device:CPU:0',).\n"
     ]
    },
    {
     "name": "stderr",
     "output_type": "stream",
     "text": [
      "INFO:tensorflow:Reduce to /job:localhost/replica:0/task:0/device:CPU:0 then broadcast to ('/job:localhost/replica:0/task:0/device:CPU:0',).\n"
     ]
    },
    {
     "name": "stdout",
     "output_type": "stream",
     "text": [
      "INFO:tensorflow:Reduce to /job:localhost/replica:0/task:0/device:CPU:0 then broadcast to ('/job:localhost/replica:0/task:0/device:CPU:0',).\n"
     ]
    },
    {
     "name": "stderr",
     "output_type": "stream",
     "text": [
      "INFO:tensorflow:Reduce to /job:localhost/replica:0/task:0/device:CPU:0 then broadcast to ('/job:localhost/replica:0/task:0/device:CPU:0',).\n"
     ]
    },
    {
     "name": "stdout",
     "output_type": "stream",
     "text": [
      "INFO:tensorflow:Reduce to /job:localhost/replica:0/task:0/device:CPU:0 then broadcast to ('/job:localhost/replica:0/task:0/device:CPU:0',).\n"
     ]
    },
    {
     "name": "stderr",
     "output_type": "stream",
     "text": [
      "INFO:tensorflow:Reduce to /job:localhost/replica:0/task:0/device:CPU:0 then broadcast to ('/job:localhost/replica:0/task:0/device:CPU:0',).\n"
     ]
    }
   ],
   "source": [
    "with strategy.scope():\n",
    "  model = tf.keras.Sequential([\n",
    "      tf.keras.layers.Conv2D(32, 3, activation='relu', input_shape=(28, 28, 1)),\n",
    "      tf.keras.layers.MaxPooling2D(),\n",
    "      tf.keras.layers.Flatten(),\n",
    "      tf.keras.layers.Dense(64, activation='relu'),\n",
    "      tf.keras.layers.Dense(10, activation='softmax')\n",
    "  ])\n",
    "\n",
    "  model.compile(loss='sparse_categorical_crossentropy',\n",
    "                optimizer=tf.keras.optimizers.Adam(),\n",
    "                metrics=['accuracy'])"
   ]
  },
  {
   "cell_type": "code",
   "execution_count": 14,
   "id": "2a4f85c3-b243-45b8-8753-ed7a77127950",
   "metadata": {},
   "outputs": [],
   "source": [
    "# 체크포인트를 저장할 체크포인트 디렉터리를 지정합니다.\n",
    "checkpoint_dir = '/tmp/training_checkpoints'\n",
    "# 체크포인트 파일의 이름\n",
    "checkpoint_prefix = os.path.join(checkpoint_dir, \"ckpt_{epoch}\")\n"
   ]
  },
  {
   "cell_type": "code",
   "execution_count": 15,
   "id": "07f52ee9-19ef-4a89-ad65-140d027f32b5",
   "metadata": {},
   "outputs": [],
   "source": [
    "# 학습률을 점점 줄이기 위한 함수\n",
    "# 필요한 함수를 직접 정의하여 사용할 수 있습니다.\n",
    "def decay(epoch):\n",
    "  if epoch < 3:\n",
    "    return 1e-3\n",
    "  elif epoch >= 3 and epoch < 7:\n",
    "    return 1e-4\n",
    "  else:\n",
    "    return 1e-5"
   ]
  },
  {
   "cell_type": "code",
   "execution_count": 16,
   "id": "8458c440-3eac-4182-adb3-144f24038af5",
   "metadata": {},
   "outputs": [],
   "source": [
    "# 에포크가 끝날 때마다 학습률을 출력하는 콜백.\n",
    "class PrintLR(tf.keras.callbacks.Callback):\n",
    "  def on_epoch_end(self, epoch, logs=None):\n",
    "    print('\\n에포크 {}의 학습률은 {}입니다.'.format(epoch + 1,\n",
    "                                                      model.optimizer.lr.numpy()))"
   ]
  },
  {
   "cell_type": "code",
   "execution_count": 17,
   "id": "9fcba256-9e7f-44f2-a0ec-30eed2d70136",
   "metadata": {},
   "outputs": [],
   "source": [
    "callbacks = [\n",
    "    tf.keras.callbacks.TensorBoard(log_dir='/tmp/logs'),\n",
    "    tf.keras.callbacks.ModelCheckpoint(filepath=checkpoint_prefix,\n",
    "                                       save_weights_only=True),\n",
    "    tf.keras.callbacks.LearningRateScheduler(decay),\n",
    "    PrintLR()\n",
    "]\n"
   ]
  },
  {
   "cell_type": "markdown",
   "id": "6104582c-baea-4abe-99fc-0b5a6b77493d",
   "metadata": {},
   "source": [
    "# 아래 트레이닝 하면서 해야할 것 \n",
    "* Terminal창에서 nvidia-smi를 실행해서 GPU사용률을 확인"
   ]
  },
  {
   "cell_type": "code",
   "execution_count": 18,
   "id": "43a1f31b-9a7c-46a1-b619-cdee424ae74b",
   "metadata": {},
   "outputs": [
    {
     "name": "stderr",
     "output_type": "stream",
     "text": [
      "2021-12-30 16:21:09.472147: W tensorflow/core/grappler/optimizers/data/auto_shard.cc:537] The `assert_cardinality` transformation is currently not handled by the auto-shard rewrite and will be removed.\n"
     ]
    },
    {
     "name": "stdout",
     "output_type": "stream",
     "text": [
      "Epoch 1/12\n",
      "INFO:tensorflow:batch_all_reduce: 6 all-reduces with algorithm = nccl, num_packs = 1\n"
     ]
    },
    {
     "name": "stderr",
     "output_type": "stream",
     "text": [
      "INFO:tensorflow:batch_all_reduce: 6 all-reduces with algorithm = nccl, num_packs = 1\n"
     ]
    },
    {
     "name": "stdout",
     "output_type": "stream",
     "text": [
      "INFO:tensorflow:Reduce to /job:localhost/replica:0/task:0/device:CPU:0 then broadcast to ('/job:localhost/replica:0/task:0/device:CPU:0',).\n"
     ]
    },
    {
     "name": "stderr",
     "output_type": "stream",
     "text": [
      "INFO:tensorflow:Reduce to /job:localhost/replica:0/task:0/device:CPU:0 then broadcast to ('/job:localhost/replica:0/task:0/device:CPU:0',).\n"
     ]
    },
    {
     "name": "stdout",
     "output_type": "stream",
     "text": [
      "INFO:tensorflow:Reduce to /job:localhost/replica:0/task:0/device:CPU:0 then broadcast to ('/job:localhost/replica:0/task:0/device:CPU:0',).\n"
     ]
    },
    {
     "name": "stderr",
     "output_type": "stream",
     "text": [
      "INFO:tensorflow:Reduce to /job:localhost/replica:0/task:0/device:CPU:0 then broadcast to ('/job:localhost/replica:0/task:0/device:CPU:0',).\n"
     ]
    },
    {
     "name": "stdout",
     "output_type": "stream",
     "text": [
      "INFO:tensorflow:Reduce to /job:localhost/replica:0/task:0/device:CPU:0 then broadcast to ('/job:localhost/replica:0/task:0/device:CPU:0',).\n"
     ]
    },
    {
     "name": "stderr",
     "output_type": "stream",
     "text": [
      "INFO:tensorflow:Reduce to /job:localhost/replica:0/task:0/device:CPU:0 then broadcast to ('/job:localhost/replica:0/task:0/device:CPU:0',).\n"
     ]
    },
    {
     "name": "stdout",
     "output_type": "stream",
     "text": [
      "INFO:tensorflow:Reduce to /job:localhost/replica:0/task:0/device:CPU:0 then broadcast to ('/job:localhost/replica:0/task:0/device:CPU:0',).\n"
     ]
    },
    {
     "name": "stderr",
     "output_type": "stream",
     "text": [
      "INFO:tensorflow:Reduce to /job:localhost/replica:0/task:0/device:CPU:0 then broadcast to ('/job:localhost/replica:0/task:0/device:CPU:0',).\n"
     ]
    },
    {
     "name": "stdout",
     "output_type": "stream",
     "text": [
      "INFO:tensorflow:Reduce to /job:localhost/replica:0/task:0/device:CPU:0 then broadcast to ('/job:localhost/replica:0/task:0/device:CPU:0',).\n"
     ]
    },
    {
     "name": "stderr",
     "output_type": "stream",
     "text": [
      "INFO:tensorflow:Reduce to /job:localhost/replica:0/task:0/device:CPU:0 then broadcast to ('/job:localhost/replica:0/task:0/device:CPU:0',).\n"
     ]
    },
    {
     "name": "stdout",
     "output_type": "stream",
     "text": [
      "INFO:tensorflow:batch_all_reduce: 6 all-reduces with algorithm = nccl, num_packs = 1\n"
     ]
    },
    {
     "name": "stderr",
     "output_type": "stream",
     "text": [
      "INFO:tensorflow:batch_all_reduce: 6 all-reduces with algorithm = nccl, num_packs = 1\n"
     ]
    },
    {
     "name": "stdout",
     "output_type": "stream",
     "text": [
      "INFO:tensorflow:Reduce to /job:localhost/replica:0/task:0/device:CPU:0 then broadcast to ('/job:localhost/replica:0/task:0/device:CPU:0',).\n"
     ]
    },
    {
     "name": "stderr",
     "output_type": "stream",
     "text": [
      "INFO:tensorflow:Reduce to /job:localhost/replica:0/task:0/device:CPU:0 then broadcast to ('/job:localhost/replica:0/task:0/device:CPU:0',).\n",
      "2021-12-30 16:21:11.124031: I tensorflow/stream_executor/cuda/cuda_dnn.cc:366] Loaded cuDNN version 8300\n",
      "2021-12-30 16:21:11.392358: I tensorflow/stream_executor/cuda/cuda_dnn.cc:366] Loaded cuDNN version 8300\n",
      "2021-12-30 16:21:11.475676: I tensorflow/core/platform/default/subprocess.cc:304] Start cannot spawn child process: No such file or directory\n"
     ]
    },
    {
     "name": "stdout",
     "output_type": "stream",
     "text": [
      "469/469 [==============================] - ETA: 0s - loss: 0.2420 - accuracy: 0.9311\n",
      "에포크 1의 학습률은 0.0010000000474974513입니다.\n",
      "469/469 [==============================] - 4s 5ms/step - loss: 0.2420 - accuracy: 0.9311 - lr: 0.0010\n",
      "Epoch 2/12\n",
      "469/469 [==============================] - ETA: 0s - loss: 0.0768 - accuracy: 0.9775\n",
      "에포크 2의 학습률은 0.0010000000474974513입니다.\n",
      "469/469 [==============================] - 2s 4ms/step - loss: 0.0768 - accuracy: 0.9775 - lr: 0.0010\n",
      "Epoch 3/12\n",
      "467/469 [============================>.] - ETA: 0s - loss: 0.0558 - accuracy: 0.9829\n",
      "에포크 3의 학습률은 0.0010000000474974513입니다.\n",
      "469/469 [==============================] - 2s 4ms/step - loss: 0.0557 - accuracy: 0.9829 - lr: 0.0010\n",
      "Epoch 4/12\n",
      "458/469 [============================>.] - ETA: 0s - loss: 0.0363 - accuracy: 0.9899\n",
      "에포크 4의 학습률은 9.999999747378752e-05입니다.\n",
      "469/469 [==============================] - 2s 4ms/step - loss: 0.0361 - accuracy: 0.9900 - lr: 1.0000e-04\n",
      "Epoch 5/12\n",
      "458/469 [============================>.] - ETA: 0s - loss: 0.0333 - accuracy: 0.9910\n",
      "에포크 5의 학습률은 9.999999747378752e-05입니다.\n",
      "469/469 [==============================] - 2s 4ms/step - loss: 0.0330 - accuracy: 0.9911 - lr: 1.0000e-04\n",
      "Epoch 6/12\n",
      "456/469 [============================>.] - ETA: 0s - loss: 0.0314 - accuracy: 0.9915\n",
      "에포크 6의 학습률은 9.999999747378752e-05입니다.\n",
      "469/469 [==============================] - 2s 4ms/step - loss: 0.0312 - accuracy: 0.9915 - lr: 1.0000e-04\n",
      "Epoch 7/12\n",
      "458/469 [============================>.] - ETA: 0s - loss: 0.0300 - accuracy: 0.9921\n",
      "에포크 7의 학습률은 9.999999747378752e-05입니다.\n",
      "469/469 [==============================] - 2s 4ms/step - loss: 0.0298 - accuracy: 0.9922 - lr: 1.0000e-04\n",
      "Epoch 8/12\n",
      "461/469 [============================>.] - ETA: 0s - loss: 0.0271 - accuracy: 0.9933\n",
      "에포크 8의 학습률은 9.999999747378752e-06입니다.\n",
      "469/469 [==============================] - 2s 4ms/step - loss: 0.0272 - accuracy: 0.9932 - lr: 1.0000e-05\n",
      "Epoch 9/12\n",
      "463/469 [============================>.] - ETA: 0s - loss: 0.0268 - accuracy: 0.9935\n",
      "에포크 9의 학습률은 9.999999747378752e-06입니다.\n",
      "469/469 [==============================] - 2s 4ms/step - loss: 0.0270 - accuracy: 0.9934 - lr: 1.0000e-05\n",
      "Epoch 10/12\n",
      "457/469 [============================>.] - ETA: 0s - loss: 0.0269 - accuracy: 0.9934\n",
      "에포크 10의 학습률은 9.999999747378752e-06입니다.\n",
      "469/469 [==============================] - 2s 4ms/step - loss: 0.0268 - accuracy: 0.9933 - lr: 1.0000e-05\n",
      "Epoch 11/12\n",
      "463/469 [============================>.] - ETA: 0s - loss: 0.0268 - accuracy: 0.9932\n",
      "에포크 11의 학습률은 9.999999747378752e-06입니다.\n",
      "469/469 [==============================] - 2s 4ms/step - loss: 0.0267 - accuracy: 0.9933 - lr: 1.0000e-05\n",
      "Epoch 12/12\n",
      "468/469 [============================>.] - ETA: 0s - loss: 0.0263 - accuracy: 0.9934\n",
      "에포크 12의 학습률은 9.999999747378752e-06입니다.\n",
      "469/469 [==============================] - 2s 4ms/step - loss: 0.0265 - accuracy: 0.9933 - lr: 1.0000e-05\n"
     ]
    },
    {
     "data": {
      "text/plain": [
       "<keras.callbacks.History at 0x7fdfa01f8e50>"
      ]
     },
     "execution_count": 18,
     "metadata": {},
     "output_type": "execute_result"
    }
   ],
   "source": [
    "model.fit(train_dataset, epochs=12, callbacks=callbacks)\n"
   ]
  },
  {
   "cell_type": "code",
   "execution_count": 27,
   "id": "e2b97c6d-a8cb-4007-8f09-349f96a918bf",
   "metadata": {},
   "outputs": [
    {
     "name": "stdout",
     "output_type": "stream",
     "text": [
      "checkpoint\t\t     ckpt_4.data-00000-of-00001\n",
      "ckpt_1.data-00000-of-00001   ckpt_4.index\n",
      "ckpt_1.index\t\t     ckpt_5.data-00000-of-00001\n",
      "ckpt_10.data-00000-of-00001  ckpt_5.index\n",
      "ckpt_10.index\t\t     ckpt_6.data-00000-of-00001\n",
      "ckpt_11.data-00000-of-00001  ckpt_6.index\n",
      "ckpt_11.index\t\t     ckpt_7.data-00000-of-00001\n",
      "ckpt_12.data-00000-of-00001  ckpt_7.index\n",
      "ckpt_12.index\t\t     ckpt_8.data-00000-of-00001\n",
      "ckpt_2.data-00000-of-00001   ckpt_8.index\n",
      "ckpt_2.index\t\t     ckpt_9.data-00000-of-00001\n",
      "ckpt_3.data-00000-of-00001   ckpt_9.index\n",
      "ckpt_3.index\n"
     ]
    }
   ],
   "source": [
    "!ls {checkpoint_dir}"
   ]
  },
  {
   "cell_type": "code",
   "execution_count": 28,
   "id": "11ea9a67-00c9-4925-bacd-725ab1444c59",
   "metadata": {},
   "outputs": [
    {
     "name": "stdout",
     "output_type": "stream",
     "text": [
      "19/79 [======>.......................] - ETA: 0s - loss: 0.0412 - accuracy: 0.9852"
     ]
    },
    {
     "name": "stderr",
     "output_type": "stream",
     "text": [
      "2021-12-30 16:23:18.935643: W tensorflow/core/grappler/optimizers/data/auto_shard.cc:537] The `assert_cardinality` transformation is currently not handled by the auto-shard rewrite and will be removed.\n"
     ]
    },
    {
     "name": "stdout",
     "output_type": "stream",
     "text": [
      "79/79 [==============================] - 0s 3ms/step - loss: 0.0452 - accuracy: 0.9838\n",
      "평가 손실: 0.04521060734987259, 평가 정확도: 0.9837999939918518\n"
     ]
    }
   ],
   "source": [
    "model.load_weights(tf.train.latest_checkpoint(checkpoint_dir))\n",
    "\n",
    "eval_loss, eval_acc = model.evaluate(eval_dataset)\n",
    "\n",
    "print('평가 손실: {}, 평가 정확도: {}'.format(eval_loss, eval_acc))"
   ]
  },
  {
   "cell_type": "code",
   "execution_count": 29,
   "id": "5f8246a6-6d2d-4c7a-912a-db3dc292aaf7",
   "metadata": {},
   "outputs": [],
   "source": [
    "# !tensorboard --logdir='/tmp/logs'"
   ]
  },
  {
   "cell_type": "code",
   "execution_count": 30,
   "id": "1e94d937-97b5-40d6-a255-32fff0b9e669",
   "metadata": {},
   "outputs": [
    {
     "name": "stdout",
     "output_type": "stream",
     "text": [
      "total 4.0K\n",
      "4.0K train\n"
     ]
    }
   ],
   "source": [
    "!ls -sh /tmp/logs"
   ]
  },
  {
   "cell_type": "code",
   "execution_count": 31,
   "id": "da1a9064-9bcd-40fc-8ce7-8c614295aa47",
   "metadata": {},
   "outputs": [],
   "source": [
    "path = '/tmp/saved_model/'"
   ]
  },
  {
   "cell_type": "code",
   "execution_count": 32,
   "id": "99e11c13-2b64-4baf-baa0-383a93b17a68",
   "metadata": {},
   "outputs": [
    {
     "name": "stdout",
     "output_type": "stream",
     "text": [
      "INFO:tensorflow:Assets written to: /tmp/saved_model/assets\n"
     ]
    },
    {
     "name": "stderr",
     "output_type": "stream",
     "text": [
      "INFO:tensorflow:Assets written to: /tmp/saved_model/assets\n"
     ]
    }
   ],
   "source": [
    "tf.keras.models.save_model(model, path)\n"
   ]
  },
  {
   "cell_type": "code",
   "execution_count": 33,
   "id": "45bb577f-b5ce-440c-82b3-5529b6a0c770",
   "metadata": {},
   "outputs": [
    {
     "name": "stdout",
     "output_type": "stream",
     "text": [
      "79/79 [==============================] - 0s 2ms/step - loss: 0.0452 - accuracy: 0.9838\n",
      "평가 손실: 0.045210614800453186, 평가 정확도: 0.9837999939918518\n"
     ]
    }
   ],
   "source": [
    "unreplicated_model = tf.keras.models.load_model(path)\n",
    "\n",
    "unreplicated_model.compile(\n",
    "    loss='sparse_categorical_crossentropy',\n",
    "    optimizer=tf.keras.optimizers.Adam(),\n",
    "    metrics=['accuracy'])\n",
    "\n",
    "eval_loss, eval_acc = unreplicated_model.evaluate(eval_dataset)\n",
    "\n",
    "print('평가 손실: {}, 평가 정확도: {}'.format(eval_loss, eval_acc))"
   ]
  },
  {
   "cell_type": "code",
   "execution_count": null,
   "id": "40e76207-f998-4bc9-9e6d-2c43b4b95609",
   "metadata": {},
   "outputs": [],
   "source": []
  },
  {
   "cell_type": "code",
   "execution_count": null,
   "id": "f2620984-8cae-465e-beb6-1c8f4e617c9d",
   "metadata": {},
   "outputs": [],
   "source": []
  },
  {
   "cell_type": "code",
   "execution_count": null,
   "id": "2eb0ebe1-7470-4596-96f9-5fa01c18c834",
   "metadata": {},
   "outputs": [],
   "source": []
  }
 ],
 "metadata": {
  "kernelspec": {
   "display_name": "Python 3 (ipykernel)",
   "language": "python",
   "name": "python3"
  },
  "language_info": {
   "codemirror_mode": {
    "name": "ipython",
    "version": 3
   },
   "file_extension": ".py",
   "mimetype": "text/x-python",
   "name": "python",
   "nbconvert_exporter": "python",
   "pygments_lexer": "ipython3",
   "version": "3.8.0"
  }
 },
 "nbformat": 4,
 "nbformat_minor": 5
}
